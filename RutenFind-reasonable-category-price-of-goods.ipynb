{
 "cells": [
  {
   "cell_type": "markdown",
   "id": "68db481c",
   "metadata": {},
   "source": [
    "# “Ruten: Find a reasonable category price of Goods”\n",
    "1. Query in entire \"Goods\" Dataset\n",
    "2. Query of similar items obtained, in \"Orders\" Dataset\n",
    "3. Graphic analysis\n",
    "4. Reasonable price range using confidence interval\n",
    "5. Boxcox method to determine outliers \n",
    "6. Regresion Model to determine Recommended item price\n",
    "7. Boxplot to determinate price range bounds. \n",
    "8. Results Summary"
   ]
  },
  {
   "cell_type": "code",
   "execution_count": 1,
   "id": "4f7328ba",
   "metadata": {},
   "outputs": [],
   "source": [
    "import pandas as pd\n",
    "import matplotlib.pyplot as plt\n",
    "import math\n",
    "import json\n",
    "import numpy as np\n",
    "import io\n",
    "pd.options.display.max_colwidth = 100\n",
    "import warnings\n",
    "warnings.filterwarnings('ignore')\n",
    "def count_digits(string):\n",
    "    return sum(item.isdigit() for item in string)"
   ]
  },
  {
   "cell_type": "markdown",
   "id": "5afa787f",
   "metadata": {},
   "source": [
    "# 1. Query in entire \"Goods\" Dataset"
   ]
  },
  {
   "cell_type": "code",
   "execution_count": 2,
   "id": "1317cd31",
   "metadata": {},
   "outputs": [
    {
     "data": {
      "text/html": [
       "<div>\n",
       "<style scoped>\n",
       "    .dataframe tbody tr th:only-of-type {\n",
       "        vertical-align: middle;\n",
       "    }\n",
       "\n",
       "    .dataframe tbody tr th {\n",
       "        vertical-align: top;\n",
       "    }\n",
       "\n",
       "    .dataframe thead th {\n",
       "        text-align: right;\n",
       "    }\n",
       "</style>\n",
       "<table border=\"1\" class=\"dataframe\">\n",
       "  <thead>\n",
       "    <tr style=\"text-align: right;\">\n",
       "      <th></th>\n",
       "      <th>category_name</th>\n",
       "      <th>category_id</th>\n",
       "      <th>item_id</th>\n",
       "      <th>price</th>\n",
       "      <th>item_name</th>\n",
       "      <th>seller_nickname</th>\n",
       "      <th>seller_id</th>\n",
       "      <th>file_name</th>\n",
       "    </tr>\n",
       "  </thead>\n",
       "  <tbody>\n",
       "    <tr>\n",
       "      <th>3446</th>\n",
       "      <td>控制器、周邊配備</td>\n",
       "      <td>002200060003</td>\n",
       "      <td>21645272185272</td>\n",
       "      <td>1000</td>\n",
       "      <td>PS5 / PS4 / PS3 主機用 台灣帳號 PSN 電子錢包 1000點 實體卡(售價1000元)【台中大眾電玩】</td>\n",
       "      <td>afd533</td>\n",
       "      <td>9128511</td>\n",
       "      <td>200</td>\n",
       "    </tr>\n",
       "    <tr>\n",
       "      <th>4882</th>\n",
       "      <td>動作冒險</td>\n",
       "      <td>0022000600020003</td>\n",
       "      <td>21801552084400</td>\n",
       "      <td>250</td>\n",
       "      <td>【WC電玩】PS4 PS5 英文 MLB 21 The Show（隨身版 / 認證版）數位下載 無光碟非序號</td>\n",
       "      <td>lee8897</td>\n",
       "      <td>4732030</td>\n",
       "      <td>200</td>\n",
       "    </tr>\n",
       "    <tr>\n",
       "      <th>14092</th>\n",
       "      <td>射擊</td>\n",
       "      <td>0022000600020004</td>\n",
       "      <td>22048097616926</td>\n",
       "      <td>1850</td>\n",
       "      <td>[裘比屋]全新現貨 PS5 決勝時刻 黑色行動 冷戰 中文版 804</td>\n",
       "      <td>chubygame</td>\n",
       "      <td>4039343</td>\n",
       "      <td>200</td>\n",
       "    </tr>\n",
       "    <tr>\n",
       "      <th>14890</th>\n",
       "      <td>動作冒險</td>\n",
       "      <td>0022000600020003</td>\n",
       "      <td>22052450328788</td>\n",
       "      <td>1450</td>\n",
       "      <td>【德周 新竹店】（二手含稅）PS5小小大冒險 中文版【EE2913】</td>\n",
       "      <td>girllouisa</td>\n",
       "      <td>7574852</td>\n",
       "      <td>200</td>\n",
       "    </tr>\n",
       "    <tr>\n",
       "      <th>15224</th>\n",
       "      <td>運動</td>\n",
       "      <td>0022000600020005</td>\n",
       "      <td>22101585669634</td>\n",
       "      <td>2650</td>\n",
       "      <td>[裘比屋]全新現貨 PS5 NBA 2K21 永懷曼巴版 中文版 425</td>\n",
       "      <td>chubygame</td>\n",
       "      <td>4039343</td>\n",
       "      <td>200</td>\n",
       "    </tr>\n",
       "  </tbody>\n",
       "</table>\n",
       "</div>"
      ],
      "text/plain": [
       "      category_name       category_id         item_id price  \\\n",
       "3446       控制器、周邊配備      002200060003  21645272185272  1000   \n",
       "4882           動作冒險  0022000600020003  21801552084400   250   \n",
       "14092            射擊  0022000600020004  22048097616926  1850   \n",
       "14890          動作冒險  0022000600020003  22052450328788  1450   \n",
       "15224            運動  0022000600020005  22101585669634  2650   \n",
       "\n",
       "                                                          item_name  \\\n",
       "3446   PS5 / PS4 / PS3 主機用 台灣帳號 PSN 電子錢包 1000點 實體卡(售價1000元)【台中大眾電玩】   \n",
       "4882         【WC電玩】PS4 PS5 英文 MLB 21 The Show（隨身版 / 認證版）數位下載 無光碟非序號   \n",
       "14092                            [裘比屋]全新現貨 PS5 決勝時刻 黑色行動 冷戰 中文版 804   \n",
       "14890                            【德周 新竹店】（二手含稅）PS5小小大冒險 中文版【EE2913】   \n",
       "15224                          [裘比屋]全新現貨 PS5 NBA 2K21 永懷曼巴版 中文版 425   \n",
       "\n",
       "      seller_nickname  seller_id file_name  \n",
       "3446           afd533    9128511       200  \n",
       "4882          lee8897    4732030       200  \n",
       "14092       chubygame    4039343       200  \n",
       "14890      girllouisa    7574852       200  \n",
       "15224       chubygame    4039343       200  "
      ]
     },
     "execution_count": 2,
     "metadata": {},
     "output_type": "execute_result"
    }
   ],
   "source": [
    "#create a dataframe containing queries in the entire Dataset\n",
    "totalquery=pd.DataFrame()\n",
    "File_numbers=201\n",
    "key_word=\"PS5\"\n",
    "for i in range(File_numbers):\n",
    "    if i<10:\n",
    "        ad=\"0000\"\n",
    "    elif i>9 and i<100:\n",
    "        ad=\"000\"\n",
    "    else:\n",
    "        ad=\"00\"\n",
    "    path=\"C:/Users/Nico/OneDrive/Escritorio/Ruten/goods/part-r-\"+ad+str(i)\n",
    "    goods=pd.read_json(path,lines=True)\n",
    "    goods= goods.dropna()\n",
    "    query=goods[goods['item_name'].str.contains(key_word)]\n",
    "    query['file_name'] = str(i)\n",
    "    concatenate=[query,totalquery]\n",
    "    totalquery=pd.concat(concatenate)\n",
    "index=totalquery[\"file_name\"].astype(int).unique().tolist()\n",
    "totalquery.head()"
   ]
  },
  {
   "cell_type": "code",
   "execution_count": 3,
   "id": "4b63520f",
   "metadata": {},
   "outputs": [
    {
     "data": {
      "text/html": [
       "<div>\n",
       "<style scoped>\n",
       "    .dataframe tbody tr th:only-of-type {\n",
       "        vertical-align: middle;\n",
       "    }\n",
       "\n",
       "    .dataframe tbody tr th {\n",
       "        vertical-align: top;\n",
       "    }\n",
       "\n",
       "    .dataframe thead th {\n",
       "        text-align: right;\n",
       "    }\n",
       "</style>\n",
       "<table border=\"1\" class=\"dataframe\">\n",
       "  <thead>\n",
       "    <tr style=\"text-align: right;\">\n",
       "      <th></th>\n",
       "      <th>category_name</th>\n",
       "      <th>category_id</th>\n",
       "      <th>item_id</th>\n",
       "      <th>price</th>\n",
       "      <th>item_name</th>\n",
       "      <th>seller_nickname</th>\n",
       "      <th>seller_id</th>\n",
       "      <th>file_name</th>\n",
       "    </tr>\n",
       "  </thead>\n",
       "  <tbody>\n",
       "    <tr>\n",
       "      <th>19865</th>\n",
       "      <td>其他類型</td>\n",
       "      <td>0022002600030009</td>\n",
       "      <td>22118250829358</td>\n",
       "      <td>9999990</td>\n",
       "      <td>有間電玩 現貨 PS5 惡靈古堡8 村莊 RESIDENT EVIL VILLAGE 中文版 首批特典</td>\n",
       "      <td>a080186</td>\n",
       "      <td>8013934</td>\n",
       "      <td>189</td>\n",
       "    </tr>\n",
       "    <tr>\n",
       "      <th>2579</th>\n",
       "      <td>運動</td>\n",
       "      <td>0022000600020005</td>\n",
       "      <td>21548178643638</td>\n",
       "      <td>1500</td>\n",
       "      <td>【優格米】PS4 PS5 惡靈古堡8 村莊 RESIDENT EVIL VILLAGE 中文版</td>\n",
       "      <td>daniel731112</td>\n",
       "      <td>3719508</td>\n",
       "      <td>151</td>\n",
       "    </tr>\n",
       "    <tr>\n",
       "      <th>20056</th>\n",
       "      <td>電玩記念品</td>\n",
       "      <td>00220005</td>\n",
       "      <td>22120592079997</td>\n",
       "      <td>2000</td>\n",
       "      <td>PS4 PS5 惡靈古堡 8  村莊 BIOHAZARD RESIDENT EVIL VILLAGE 限定特典 鐵盒</td>\n",
       "      <td>whitedragon1234</td>\n",
       "      <td>2628499</td>\n",
       "      <td>116</td>\n",
       "    </tr>\n",
       "    <tr>\n",
       "      <th>4601</th>\n",
       "      <td>控制器、周邊配備</td>\n",
       "      <td>002200060003</td>\n",
       "      <td>21743259152562</td>\n",
       "      <td>99990</td>\n",
       "      <td>【全新未拆】PS5 惡靈古堡8 村莊 RESIDENT EVIL VILLAGE 中文版【台中恐龍電玩】</td>\n",
       "      <td>a0424515151</td>\n",
       "      <td>8015751</td>\n",
       "      <td>53</td>\n",
       "    </tr>\n",
       "    <tr>\n",
       "      <th>10429</th>\n",
       "      <td>控制器、周邊配備</td>\n",
       "      <td>002200060003</td>\n",
       "      <td>22015434430682</td>\n",
       "      <td>500</td>\n",
       "      <td>【PS4/PS5】惡靈古堡 3 存檔 修改 替換  Save Wizard Cyber RESIDENT EVIL3</td>\n",
       "      <td>c280678</td>\n",
       "      <td>8955139</td>\n",
       "      <td>7</td>\n",
       "    </tr>\n",
       "  </tbody>\n",
       "</table>\n",
       "</div>"
      ],
      "text/plain": [
       "      category_name       category_id         item_id    price  \\\n",
       "19865          其他類型  0022002600030009  22118250829358  9999990   \n",
       "2579             運動  0022000600020005  21548178643638     1500   \n",
       "20056         電玩記念品          00220005  22120592079997     2000   \n",
       "4601       控制器、周邊配備      002200060003  21743259152562    99990   \n",
       "10429      控制器、周邊配備      002200060003  22015434430682      500   \n",
       "\n",
       "                                                        item_name  \\\n",
       "19865         有間電玩 現貨 PS5 惡靈古堡8 村莊 RESIDENT EVIL VILLAGE 中文版 首批特典   \n",
       "2579              【優格米】PS4 PS5 惡靈古堡8 村莊 RESIDENT EVIL VILLAGE 中文版   \n",
       "20056  PS4 PS5 惡靈古堡 8  村莊 BIOHAZARD RESIDENT EVIL VILLAGE 限定特典 鐵盒   \n",
       "4601         【全新未拆】PS5 惡靈古堡8 村莊 RESIDENT EVIL VILLAGE 中文版【台中恐龍電玩】   \n",
       "10429  【PS4/PS5】惡靈古堡 3 存檔 修改 替換  Save Wizard Cyber RESIDENT EVIL3   \n",
       "\n",
       "       seller_nickname  seller_id file_name  \n",
       "19865          a080186    8013934       189  \n",
       "2579      daniel731112    3719508       151  \n",
       "20056  whitedragon1234    2628499       116  \n",
       "4601       a0424515151    8015751        53  \n",
       "10429          c280678    8955139         7  "
      ]
     },
     "execution_count": 3,
     "metadata": {},
     "output_type": "execute_result"
    }
   ],
   "source": [
    "key_word2=\"RESIDENT EVIL\"\n",
    "totalquery = totalquery[totalquery['item_name'].str.contains(key_word2)]\n",
    "items=totalquery[\"item_id\"].to_list()\n",
    "index=totalquery[\"file_name\"].astype(int).unique().tolist()\n",
    "totalGoodQuery=totalquery[[\"item_id\",\"price\"]]\n",
    "totalGoodQuery=totalGoodQuery.reset_index(drop=True)\n",
    "totalquery.head()"
   ]
  },
  {
   "cell_type": "markdown",
   "id": "770c8df6",
   "metadata": {},
   "source": [
    "# 2. Query of similar items obtained, in \"Orders\" Dataset"
   ]
  },
  {
   "cell_type": "code",
   "execution_count": 4,
   "id": "18bebe6a",
   "metadata": {},
   "outputs": [
    {
     "data": {
      "text/html": [
       "<div>\n",
       "<style scoped>\n",
       "    .dataframe tbody tr th:only-of-type {\n",
       "        vertical-align: middle;\n",
       "    }\n",
       "\n",
       "    .dataframe tbody tr th {\n",
       "        vertical-align: top;\n",
       "    }\n",
       "\n",
       "    .dataframe thead th {\n",
       "        text-align: right;\n",
       "    }\n",
       "</style>\n",
       "<table border=\"1\" class=\"dataframe\">\n",
       "  <thead>\n",
       "    <tr style=\"text-align: right;\">\n",
       "      <th></th>\n",
       "      <th>order_no</th>\n",
       "      <th>category_name</th>\n",
       "      <th>category_id</th>\n",
       "      <th>item_id</th>\n",
       "      <th>price</th>\n",
       "      <th>item_name</th>\n",
       "      <th>order_qty</th>\n",
       "      <th>order_id</th>\n",
       "      <th>file_name</th>\n",
       "    </tr>\n",
       "  </thead>\n",
       "  <tbody>\n",
       "    <tr>\n",
       "      <th>66349</th>\n",
       "      <td>21051917028965</td>\n",
       "      <td>動作冒險</td>\n",
       "      <td>0022002600030003</td>\n",
       "      <td>22119461311674</td>\n",
       "      <td>1290</td>\n",
       "      <td>PS5 惡靈古堡8 村莊 RESIDENT EVIL VILLAGE 二手含特典</td>\n",
       "      <td>1</td>\n",
       "      <td>52120423571079</td>\n",
       "      <td>5</td>\n",
       "    </tr>\n",
       "    <tr>\n",
       "      <th>37673</th>\n",
       "      <td>21080443089018</td>\n",
       "      <td>控制器、周邊配備</td>\n",
       "      <td>002200060003</td>\n",
       "      <td>22015434430682</td>\n",
       "      <td>550</td>\n",
       "      <td>【PS4/PS5】惡靈古堡 3 存檔 修改 替換  Save Wizard Cyber RESIDENT EVIL3</td>\n",
       "      <td>1</td>\n",
       "      <td>52131466765703</td>\n",
       "      <td>7</td>\n",
       "    </tr>\n",
       "    <tr>\n",
       "      <th>18713</th>\n",
       "      <td>21091455137628</td>\n",
       "      <td>控制器、周邊配備</td>\n",
       "      <td>002200060003</td>\n",
       "      <td>21743259152562</td>\n",
       "      <td>950</td>\n",
       "      <td>【全新未拆】PS5 惡靈古堡8 村莊 RESIDENT EVIL VILLAGE 中文版【台中恐龍電玩】</td>\n",
       "      <td>1</td>\n",
       "      <td>52137487208423</td>\n",
       "      <td>53</td>\n",
       "    </tr>\n",
       "    <tr>\n",
       "      <th>18714</th>\n",
       "      <td>21052619268666</td>\n",
       "      <td>控制器、周邊配備</td>\n",
       "      <td>002200060003</td>\n",
       "      <td>21743259152562</td>\n",
       "      <td>1570</td>\n",
       "      <td>【全新未拆】PS5 惡靈古堡8 村莊 RESIDENT EVIL VILLAGE 中文版【台中恐龍電玩】</td>\n",
       "      <td>1</td>\n",
       "      <td>52121427200365</td>\n",
       "      <td>53</td>\n",
       "    </tr>\n",
       "    <tr>\n",
       "      <th>18715</th>\n",
       "      <td>21091756046471</td>\n",
       "      <td>控制器、周邊配備</td>\n",
       "      <td>002200060003</td>\n",
       "      <td>21743259152562</td>\n",
       "      <td>950</td>\n",
       "      <td>【全新未拆】PS5 惡靈古堡8 村莊 RESIDENT EVIL VILLAGE 中文版【台中恐龍電玩】</td>\n",
       "      <td>1</td>\n",
       "      <td>52137488687234</td>\n",
       "      <td>53</td>\n",
       "    </tr>\n",
       "  </tbody>\n",
       "</table>\n",
       "</div>"
      ],
      "text/plain": [
       "             order_no category_name       category_id         item_id  price  \\\n",
       "66349  21051917028965          動作冒險  0022002600030003  22119461311674   1290   \n",
       "37673  21080443089018      控制器、周邊配備      002200060003  22015434430682    550   \n",
       "18713  21091455137628      控制器、周邊配備      002200060003  21743259152562    950   \n",
       "18714  21052619268666      控制器、周邊配備      002200060003  21743259152562   1570   \n",
       "18715  21091756046471      控制器、周邊配備      002200060003  21743259152562    950   \n",
       "\n",
       "                                                        item_name  order_qty  \\\n",
       "66349                    PS5 惡靈古堡8 村莊 RESIDENT EVIL VILLAGE 二手含特典          1   \n",
       "37673  【PS4/PS5】惡靈古堡 3 存檔 修改 替換  Save Wizard Cyber RESIDENT EVIL3          1   \n",
       "18713        【全新未拆】PS5 惡靈古堡8 村莊 RESIDENT EVIL VILLAGE 中文版【台中恐龍電玩】          1   \n",
       "18714        【全新未拆】PS5 惡靈古堡8 村莊 RESIDENT EVIL VILLAGE 中文版【台中恐龍電玩】          1   \n",
       "18715        【全新未拆】PS5 惡靈古堡8 村莊 RESIDENT EVIL VILLAGE 中文版【台中恐龍電玩】          1   \n",
       "\n",
       "             order_id  file_name  \n",
       "66349  52120423571079          5  \n",
       "37673  52131466765703          7  \n",
       "18713  52137487208423         53  \n",
       "18714  52121427200365         53  \n",
       "18715  52137488687234         53  "
      ]
     },
     "execution_count": 4,
     "metadata": {},
     "output_type": "execute_result"
    }
   ],
   "source": [
    "totalorderquery=pd.DataFrame()\n",
    "for i in index:\n",
    "    if i<10:\n",
    "        ad=\"0000\"\n",
    "    elif i>9 and i<100:\n",
    "        ad=\"000\"\n",
    "    else:\n",
    "        ad=\"00\"\n",
    "    path=\"C:/Users/Nico/OneDrive/Escritorio/Ruten/order/part-r-\"+ad+str(i)\n",
    "    orders=pd.read_json(path,lines=True)\n",
    "    orders= orders.dropna()\n",
    "    orders[\"item_id\"] = orders[\"item_id\"].astype(str)\n",
    "    for it in items:\n",
    "        if orders[orders[\"item_id\"]==it].empty:\n",
    "            continue\n",
    "        else:\n",
    "            queryorder=orders[orders[\"item_id\"]==it]\n",
    "            queryorder['file_name'] = i\n",
    "            concatenate=[queryorder,totalorderquery]\n",
    "            totalorderquery=pd.concat(concatenate)\n",
    "totalorderquery.head()"
   ]
  },
  {
   "cell_type": "markdown",
   "id": "6fb79e89",
   "metadata": {},
   "source": [
    "# 3. Graphic analysis"
   ]
  },
  {
   "cell_type": "code",
   "execution_count": 5,
   "id": "b2ae98c5",
   "metadata": {},
   "outputs": [
    {
     "data": {
      "image/png": "[encoded data removed]",
      "text/plain": [
       "<Figure size 432x288 with 1 Axes>"
      ]
     },
     "metadata": {
      "needs_background": "light"
     },
     "output_type": "display_data"
    }
   ],
   "source": [
    "#Histogram of price from Orders Dataset\n",
    "totalorderquery.hist(\"price\",edgecolor=\"black\",grid=False,weights=totalorderquery.order_qty);"
   ]
  },
  {
   "cell_type": "code",
   "execution_count": 7,
   "id": "288f1850",
   "metadata": {},
   "outputs": [
    {
     "data": {
      "image/png": "[encoded data removed]",
      "text/plain": [
       "<Figure size 432x288 with 1 Axes>"
      ]
     },
     "metadata": {
      "needs_background": "light"
     },
     "output_type": "display_data"
    }
   ],
   "source": [
    "#Bar-chart of price from Orders Dataset\n",
    "totalorderquerysummary=totalorderquery.groupby([\"item_id\",\"price\"]).agg({'order_qty': 'sum','order_id': 'first'}).reset_index().sort_values(\"order_qty\")\n",
    "totalorderquerysummary.plot.bar( x=\"price\",y=\"order_qty\");"
   ]
  },
  {
   "cell_type": "code",
   "execution_count": 8,
   "id": "ce228db7",
   "metadata": {},
   "outputs": [
    {
     "data": {
      "text/html": [
       "<div>\n",
       "<style scoped>\n",
       "    .dataframe tbody tr th:only-of-type {\n",
       "        vertical-align: middle;\n",
       "    }\n",
       "\n",
       "    .dataframe tbody tr th {\n",
       "        vertical-align: top;\n",
       "    }\n",
       "\n",
       "    .dataframe thead th {\n",
       "        text-align: right;\n",
       "    }\n",
       "</style>\n",
       "<table border=\"1\" class=\"dataframe\">\n",
       "  <thead>\n",
       "    <tr style=\"text-align: right;\">\n",
       "      <th></th>\n",
       "      <th></th>\n",
       "      <th>order_qty</th>\n",
       "      <th>order_id</th>\n",
       "    </tr>\n",
       "    <tr>\n",
       "      <th>item_id</th>\n",
       "      <th>price</th>\n",
       "      <th></th>\n",
       "      <th></th>\n",
       "    </tr>\n",
       "  </thead>\n",
       "  <tbody>\n",
       "    <tr>\n",
       "      <th>21548178643638</th>\n",
       "      <th>1500</th>\n",
       "      <td>5</td>\n",
       "      <td>52119420824446</td>\n",
       "    </tr>\n",
       "    <tr>\n",
       "      <th rowspan=\"3\" valign=\"top\">21743259152562</th>\n",
       "      <th>950</th>\n",
       "      <td>5</td>\n",
       "      <td>52137487208423</td>\n",
       "    </tr>\n",
       "    <tr>\n",
       "      <th>1520</th>\n",
       "      <td>3</td>\n",
       "      <td>52116410636904</td>\n",
       "    </tr>\n",
       "    <tr>\n",
       "      <th>1570</th>\n",
       "      <td>6</td>\n",
       "      <td>52121427200365</td>\n",
       "    </tr>\n",
       "    <tr>\n",
       "      <th>22015434430682</th>\n",
       "      <th>550</th>\n",
       "      <td>1</td>\n",
       "      <td>52131466765703</td>\n",
       "    </tr>\n",
       "  </tbody>\n",
       "</table>\n",
       "</div>"
      ],
      "text/plain": [
       "                      order_qty        order_id\n",
       "item_id        price                           \n",
       "21548178643638 1500           5  52119420824446\n",
       "21743259152562 950            5  52137487208423\n",
       "               1520           3  52116410636904\n",
       "               1570           6  52121427200365\n",
       "22015434430682 550            1  52131466765703"
      ]
     },
     "execution_count": 8,
     "metadata": {},
     "output_type": "execute_result"
    }
   ],
   "source": [
    "totalorderquery.groupby([\"item_id\",\"price\"]).agg({'order_qty': 'sum','order_id': 'first'}).head()"
   ]
  },
  {
   "cell_type": "code",
   "execution_count": 9,
   "id": "2400fe00",
   "metadata": {},
   "outputs": [
    {
     "name": "stdout",
     "output_type": "stream",
     "text": [
      "The mean of the Products in \"Order\" Dataset: 1344.1666666666667\n",
      "The Standard Deviation of the Products in \"Order\" Dataset: 294.6614367691174\n"
     ]
    }
   ],
   "source": [
    "totalorderquerysummary=totalorderquery.groupby([\"item_id\",\"price\"]).agg({'order_qty': 'sum','order_id': 'first'}).reset_index().sort_values(\"order_qty\")\n",
    "mean=sum(totalorderquery[\"price\"]*totalorderquery[\"order_qty\"])/sum(totalorderquery[\"order_qty\"])\n",
    "stdeV=math.sqrt(sum((totalorderquery[\"price\"]-mean)**2)/(sum(totalorderquery[\"order_qty\"])-1))\n",
    "print(\"The mean of the Products in \\\"Order\\\" Dataset:\", mean)\n",
    "print(\"The Standard Deviation of the Products in \\\"Order\\\" Dataset:\",stdeV)"
   ]
  },
  {
   "cell_type": "code",
   "execution_count": 10,
   "id": "6939c82e",
   "metadata": {},
   "outputs": [
    {
     "name": "stdout",
     "output_type": "stream",
     "text": [
      "The lower bound is 1226.2775393965812\n",
      "The upper bound is 1462.0557939367523\n"
     ]
    }
   ],
   "source": [
    "# price bounds with confidence level of 95% z=1.96\n",
    "LowCI= mean - 1.96*(stdeV/math.sqrt(sum(totalorderquery[\"order_qty\"])))\n",
    "UpperCI= mean + 1.96*(stdeV/math.sqrt(sum(totalorderquery[\"order_qty\"]))) \n",
    "print(\"The lower bound is\", LowCI)\n",
    "print(\"The upper bound is\", UpperCI)"
   ]
  },
  {
   "cell_type": "code",
   "execution_count": 11,
   "id": "bc938bfa",
   "metadata": {},
   "outputs": [
    {
     "data": {
      "text/html": [
       "<div>\n",
       "<style scoped>\n",
       "    .dataframe tbody tr th:only-of-type {\n",
       "        vertical-align: middle;\n",
       "    }\n",
       "\n",
       "    .dataframe tbody tr th {\n",
       "        vertical-align: top;\n",
       "    }\n",
       "\n",
       "    .dataframe thead th {\n",
       "        text-align: right;\n",
       "    }\n",
       "</style>\n",
       "<table border=\"1\" class=\"dataframe\">\n",
       "  <thead>\n",
       "    <tr style=\"text-align: right;\">\n",
       "      <th></th>\n",
       "      <th>item_id</th>\n",
       "      <th>price</th>\n",
       "      <th>digits</th>\n",
       "    </tr>\n",
       "  </thead>\n",
       "  <tbody>\n",
       "    <tr>\n",
       "      <th>0</th>\n",
       "      <td>22119461311674</td>\n",
       "      <td>1290</td>\n",
       "      <td>4</td>\n",
       "    </tr>\n",
       "    <tr>\n",
       "      <th>1</th>\n",
       "      <td>22015434430682</td>\n",
       "      <td>500</td>\n",
       "      <td>3</td>\n",
       "    </tr>\n",
       "    <tr>\n",
       "      <th>2</th>\n",
       "      <td>21743259152562</td>\n",
       "      <td>99990</td>\n",
       "      <td>5</td>\n",
       "    </tr>\n",
       "    <tr>\n",
       "      <th>3</th>\n",
       "      <td>22120592079997</td>\n",
       "      <td>2000</td>\n",
       "      <td>4</td>\n",
       "    </tr>\n",
       "    <tr>\n",
       "      <th>4</th>\n",
       "      <td>21548178643638</td>\n",
       "      <td>1500</td>\n",
       "      <td>4</td>\n",
       "    </tr>\n",
       "    <tr>\n",
       "      <th>5</th>\n",
       "      <td>22118250829358</td>\n",
       "      <td>9999990</td>\n",
       "      <td>7</td>\n",
       "    </tr>\n",
       "  </tbody>\n",
       "</table>\n",
       "</div>"
      ],
      "text/plain": [
       "          item_id    price  digits\n",
       "0  22119461311674     1290       4\n",
       "1  22015434430682      500       3\n",
       "2  21743259152562    99990       5\n",
       "3  22120592079997     2000       4\n",
       "4  21548178643638     1500       4\n",
       "5  22118250829358  9999990       7"
      ]
     },
     "execution_count": 11,
     "metadata": {},
     "output_type": "execute_result"
    }
   ],
   "source": [
    "#clear orders to obtain latest order prices from each item_id\n",
    "totalOrderQuery=totalorderquery.drop_duplicates(\n",
    "  subset = ['item_id'],\n",
    "  keep = 'last').reset_index(drop = True)\n",
    "totalOrderQuery['price']=totalOrderQuery['price'].apply(str)\n",
    "totalOrderQuery[\"digits\"]=totalOrderQuery[\"price\"].apply(count_digits)\n",
    "newdf=totalOrderQuery[['item_id', 'price', 'digits']] \n",
    "compare = totalGoodQuery.loc[totalGoodQuery[\"item_id\"].isin(totalOrderQuery[\"item_id\"])].copy(deep=True)\n",
    "compare[\"digits\"]= compare[\"price\"].apply(count_digits)\n",
    "compare=compare.reset_index(drop=True)\n",
    "compare = compare[::-1] \n",
    "compare=compare.reset_index(drop=True)\n",
    "compare\n"
   ]
  },
  {
   "cell_type": "markdown",
   "id": "ba833753",
   "metadata": {},
   "source": [
    "# 5. Boxcox method to determine outliers \n"
   ]
  },
  {
   "cell_type": "code",
   "execution_count": 12,
   "id": "7bf0c309",
   "metadata": {},
   "outputs": [],
   "source": [
    "compare['price']=compare['price'].astype(int)\n",
    "newdf['price'] = newdf['price'].astype(int)"
   ]
  },
  {
   "cell_type": "code",
   "execution_count": 19,
   "id": "2f205edc",
   "metadata": {},
   "outputs": [
    {
     "data": {
      "text/html": [
       "<div>\n",
       "<style scoped>\n",
       "    .dataframe tbody tr th:only-of-type {\n",
       "        vertical-align: middle;\n",
       "    }\n",
       "\n",
       "    .dataframe tbody tr th {\n",
       "        vertical-align: top;\n",
       "    }\n",
       "\n",
       "    .dataframe thead th {\n",
       "        text-align: right;\n",
       "    }\n",
       "</style>\n",
       "<table border=\"1\" class=\"dataframe\">\n",
       "  <thead>\n",
       "    <tr style=\"text-align: right;\">\n",
       "      <th></th>\n",
       "      <th>item_id</th>\n",
       "      <th>price</th>\n",
       "      <th>digits</th>\n",
       "      <th>Unreasonable Price</th>\n",
       "    </tr>\n",
       "  </thead>\n",
       "  <tbody>\n",
       "    <tr>\n",
       "      <th>0</th>\n",
       "      <td>22119461311674</td>\n",
       "      <td>1290</td>\n",
       "      <td>4</td>\n",
       "      <td>False</td>\n",
       "    </tr>\n",
       "    <tr>\n",
       "      <th>1</th>\n",
       "      <td>22015434430682</td>\n",
       "      <td>500</td>\n",
       "      <td>3</td>\n",
       "      <td>False</td>\n",
       "    </tr>\n",
       "    <tr>\n",
       "      <th>2</th>\n",
       "      <td>21743259152562</td>\n",
       "      <td>99990</td>\n",
       "      <td>5</td>\n",
       "      <td>True</td>\n",
       "    </tr>\n",
       "    <tr>\n",
       "      <th>3</th>\n",
       "      <td>22120592079997</td>\n",
       "      <td>2000</td>\n",
       "      <td>4</td>\n",
       "      <td>False</td>\n",
       "    </tr>\n",
       "    <tr>\n",
       "      <th>4</th>\n",
       "      <td>21548178643638</td>\n",
       "      <td>1500</td>\n",
       "      <td>4</td>\n",
       "      <td>False</td>\n",
       "    </tr>\n",
       "    <tr>\n",
       "      <th>5</th>\n",
       "      <td>22118250829358</td>\n",
       "      <td>9999990</td>\n",
       "      <td>7</td>\n",
       "      <td>True</td>\n",
       "    </tr>\n",
       "  </tbody>\n",
       "</table>\n",
       "</div>"
      ],
      "text/plain": [
       "          item_id    price  digits  Unreasonable Price\n",
       "0  22119461311674     1290       4               False\n",
       "1  22015434430682      500       3               False\n",
       "2  21743259152562    99990       5                True\n",
       "3  22120592079997     2000       4               False\n",
       "4  21548178643638     1500       4               False\n",
       "5  22118250829358  9999990       7                True"
      ]
     },
     "execution_count": 19,
     "metadata": {},
     "output_type": "execute_result"
    }
   ],
   "source": [
    "#construction of table to observe unreasonable prices\n",
    "from scipy import stats\n",
    "norm_change = pd.DataFrame(stats.boxcox(compare['price']/newdf['price'])[0])\n",
    "norm_change_upper_bound = norm_change.mean() + 0.8*norm_change.std()\n",
    "compare['Unreasonable Price'] = np.where((norm_change > norm_change_upper_bound ) , True, False)\n",
    "norm_change\n",
    "compare"
   ]
  },
  {
   "cell_type": "code",
   "execution_count": 20,
   "id": "9f7e4fc2",
   "metadata": {},
   "outputs": [],
   "source": [
    "validated_products_id = compare.loc[compare['Unreasonable Price'] == False]['item_id']\n",
    "goods = totalquery.loc[totalquery['item_id'].isin(validated_products_id.values)]"
   ]
  },
  {
   "cell_type": "markdown",
   "id": "53690f55",
   "metadata": {},
   "source": [
    "# 6. Regresion Model to determine Recommended item price"
   ]
  },
  {
   "cell_type": "code",
   "execution_count": 21,
   "id": "241a45c0",
   "metadata": {},
   "outputs": [],
   "source": [
    "#clear dataset to apply regression model\n",
    "import pandas as pd\n",
    "import numpy as np\n",
    "import sklearn\n",
    "import nltk\n",
    "from nltk.stem.snowball import SnowballStemmer\n",
    "import re\n",
    "from nltk.corpus import stopwords\n",
    "from nltk.tokenize import word_tokenize\n",
    "from hanziconv import HanziConv\n",
    "from nltk.corpus import stopwords\n",
    "from nltk.stem import PorterStemmer\n",
    "from nltk.stem import WordNetLemmatizer\n",
    "import jieba\n",
    "import jieba.posseg as pseg\n",
    "from hanziconv import HanziConv\n",
    "import stopwordsiso\n",
    "from stopwordsiso import stopwords as st_zh"
   ]
  },
  {
   "cell_type": "code",
   "execution_count": 22,
   "id": "a59f12a5",
   "metadata": {},
   "outputs": [],
   "source": [
    "goods.drop(columns=['category_name','category_id','item_id','seller_nickname','seller_id','file_name'],inplace=True)\n",
    "goods['zh-name'] = \"no name\"\n",
    "goods['en-name'] = \"no name\""
   ]
  },
  {
   "cell_type": "code",
   "execution_count": 23,
   "id": "83afc743",
   "metadata": {},
   "outputs": [],
   "source": [
    "#cleaning\n",
    "stop_words_zh = set(st_zh([\"zh\"]))\n",
    "stop_words_en = set(stopwords.words('english'))\n",
    "\n",
    "for i in goods.index:\n",
    "    cleaned_text = []\n",
    "    clean = re.sub(r'[^a-zA-Z 0-9 \\u4e00-\\u9fff]+','',goods.loc[i]['item_name'])\n",
    "    english_text = \" \".join(re.findall(\"[a-zA-Z 0-9]+\",goods.loc[i]['item_name']))\n",
    "    chinese_text = re.sub(\"[a-zA-Z 0-9]\",'',clean)\n",
    "    \n",
    "    if not (english_text == ''):\n",
    "        goods.at[i,'en-name'] = english_text\n",
    "    \n",
    "    if not (chinese_text == ' '):\n",
    "        goods.at[i,'zh-name'] = chinese_text\n",
    "    \n",
    "        \n",
    "    "
   ]
  },
  {
   "cell_type": "code",
   "execution_count": 24,
   "id": "2fe761f5",
   "metadata": {},
   "outputs": [
    {
     "data": {
      "text/html": [
       "<div>\n",
       "<style scoped>\n",
       "    .dataframe tbody tr th:only-of-type {\n",
       "        vertical-align: middle;\n",
       "    }\n",
       "\n",
       "    .dataframe tbody tr th {\n",
       "        vertical-align: top;\n",
       "    }\n",
       "\n",
       "    .dataframe thead th {\n",
       "        text-align: right;\n",
       "    }\n",
       "</style>\n",
       "<table border=\"1\" class=\"dataframe\">\n",
       "  <thead>\n",
       "    <tr style=\"text-align: right;\">\n",
       "      <th></th>\n",
       "      <th>price</th>\n",
       "      <th>item_name</th>\n",
       "      <th>zh-name</th>\n",
       "      <th>en-name</th>\n",
       "    </tr>\n",
       "  </thead>\n",
       "  <tbody>\n",
       "    <tr>\n",
       "      <th>2579</th>\n",
       "      <td>1500</td>\n",
       "      <td>【優格米】PS4 PS5 惡靈古堡8 村莊 RESIDENT EVIL VILLAGE 中文版</td>\n",
       "      <td>優格米惡靈古堡村莊中文版</td>\n",
       "      <td>PS4 PS5  8   RESIDENT EVIL VILLAGE</td>\n",
       "    </tr>\n",
       "    <tr>\n",
       "      <th>20056</th>\n",
       "      <td>2000</td>\n",
       "      <td>PS4 PS5 惡靈古堡 8  村莊 BIOHAZARD RESIDENT EVIL VILLAGE 限定特典 鐵盒</td>\n",
       "      <td>惡靈古堡村莊限定特典鐵盒</td>\n",
       "      <td>PS4 PS5   8    BIOHAZARD RESIDENT EVIL VILLAGE</td>\n",
       "    </tr>\n",
       "    <tr>\n",
       "      <th>10429</th>\n",
       "      <td>500</td>\n",
       "      <td>【PS4/PS5】惡靈古堡 3 存檔 修改 替換  Save Wizard Cyber RESIDENT EVIL3</td>\n",
       "      <td>惡靈古堡存檔修改替換</td>\n",
       "      <td>PS4 PS5  3        Save Wizard Cyber RESIDENT EVIL3</td>\n",
       "    </tr>\n",
       "    <tr>\n",
       "      <th>19968</th>\n",
       "      <td>1290</td>\n",
       "      <td>PS5 惡靈古堡8 村莊 RESIDENT EVIL VILLAGE 二手含特典</td>\n",
       "      <td>惡靈古堡村莊二手含特典</td>\n",
       "      <td>PS5  8   RESIDENT EVIL VILLAGE</td>\n",
       "    </tr>\n",
       "  </tbody>\n",
       "</table>\n",
       "</div>"
      ],
      "text/plain": [
       "      price                                                   item_name  \\\n",
       "2579   1500             【優格米】PS4 PS5 惡靈古堡8 村莊 RESIDENT EVIL VILLAGE 中文版   \n",
       "20056  2000  PS4 PS5 惡靈古堡 8  村莊 BIOHAZARD RESIDENT EVIL VILLAGE 限定特典 鐵盒   \n",
       "10429   500  【PS4/PS5】惡靈古堡 3 存檔 修改 替換  Save Wizard Cyber RESIDENT EVIL3   \n",
       "19968  1290                    PS5 惡靈古堡8 村莊 RESIDENT EVIL VILLAGE 二手含特典   \n",
       "\n",
       "            zh-name                                             en-name  \n",
       "2579   優格米惡靈古堡村莊中文版                 PS4 PS5  8   RESIDENT EVIL VILLAGE   \n",
       "20056  惡靈古堡村莊限定特典鐵盒   PS4 PS5   8    BIOHAZARD RESIDENT EVIL VILLAGE     \n",
       "10429    惡靈古堡存檔修改替換  PS4 PS5  3        Save Wizard Cyber RESIDENT EVIL3  \n",
       "19968   惡靈古堡村莊二手含特典                     PS5  8   RESIDENT EVIL VILLAGE   "
      ]
     },
     "execution_count": 24,
     "metadata": {},
     "output_type": "execute_result"
    }
   ],
   "source": [
    "goods.head()"
   ]
  },
  {
   "cell_type": "code",
   "execution_count": 25,
   "id": "0d4b6c59",
   "metadata": {},
   "outputs": [],
   "source": [
    "lemmatizer = WordNetLemmatizer()\n",
    "\n",
    "goods['en-name'] = goods['en-name'].astype(str)\n",
    "\n",
    "for i in goods.index:\n",
    "      \n",
    "    word_tokens = word_tokenize(goods.loc[i]['en-name'])\n",
    "    filtered_sentence = [w for w in word_tokens if not w.lower() in stop_words_en]\n",
    "    \n",
    "    out_sentence = []\n",
    "    \n",
    "    for w in word_tokens:\n",
    "        if w not in stop_words_en:\n",
    "            out_sentence.append(lemmatizer.lemmatize(w.lower()))\n",
    "    \n",
    "    \n",
    "    goods.at[i,'en-name'] = \" \".join(out_sentence)\n",
    "    "
   ]
  },
  {
   "cell_type": "code",
   "execution_count": 26,
   "id": "032a0de5",
   "metadata": {},
   "outputs": [],
   "source": [
    "#Regression model\n",
    "from sklearn.model_selection import train_test_split\n",
    "from sklearn.feature_extraction.text import CountVectorizer\n",
    "from sklearn.feature_extraction import text\n",
    "from sklearn.pipeline import make_pipeline\n",
    "from sklearn.naive_bayes import MultinomialNB\n",
    "from sklearn.compose import make_column_transformer\n",
    "from scipy.sparse import hstack\n",
    "import lightgbm as ltb\n",
    "\n",
    "X_train, X_test, y_train, y_test = train_test_split(goods[['en-name','zh-name']], goods['price'], \n",
    "                                                     test_size=0.25, random_state=42)"
   ]
  },
  {
   "cell_type": "code",
   "execution_count": 27,
   "id": "96f37d2c",
   "metadata": {},
   "outputs": [
    {
     "name": "stderr",
     "output_type": "stream",
     "text": [
      "Building prefix dict from the default dictionary ...\n",
      "Loading model from cache C:\\Users\\Nico\\AppData\\Local\\Temp\\jieba.cache\n",
      "Loading model cost 0.733 seconds.\n",
      "Prefix dict has been built successfully.\n"
     ]
    }
   ],
   "source": [
    "vectorizer_en = CountVectorizer(stop_words=stop_words_en)\n",
    "vec_train_en = vectorizer_en.fit_transform(X_train['en-name'])\n",
    "vec_test_en = vectorizer_en.transform(X_test['en-name'])\n",
    "\n",
    "vectorizer_zh = CountVectorizer(tokenizer=jieba.lcut,stop_words=stop_words_zh)\n",
    "vec_train_zh = vectorizer_zh.fit_transform(X_train['zh-name'])\n",
    "vec_test_zh = vectorizer_zh.transform(X_test['zh-name'])"
   ]
  },
  {
   "cell_type": "code",
   "execution_count": 28,
   "id": "7f5d2bdc",
   "metadata": {},
   "outputs": [],
   "source": [
    "tfidf_transform = text.TfidfTransformer(norm=None)\n",
    "X_train_tfidf = pd.DataFrame(columns=['zh','en'])\n",
    "X_test_tfidf = pd.DataFrame(columns=['zh','en'])\n",
    "\n",
    "X_train_tfidf_zh = tfidf_transform.fit_transform(vec_train_zh)\n",
    "X_test_tfidf_zh = tfidf_transform.transform(vec_test_zh)\n",
    "\n",
    "\n",
    "X_train_tfidf_en = tfidf_transform.fit_transform(vec_train_en)\n",
    "X_test_tfidf_en = tfidf_transform.transform(vec_test_en)"
   ]
  },
  {
   "cell_type": "code",
   "execution_count": 29,
   "id": "13b0ede6",
   "metadata": {},
   "outputs": [],
   "source": [
    "X_train = hstack((X_train_tfidf_zh, X_train_tfidf_en))"
   ]
  },
  {
   "cell_type": "code",
   "execution_count": 30,
   "id": "afd0ac8e",
   "metadata": {},
   "outputs": [
    {
     "data": {
      "text/html": [
       "<style>#sk-container-id-1 {color: black;background-color: white;}#sk-container-id-1 pre{padding: 0;}#sk-container-id-1 div.sk-toggleable {background-color: white;}#sk-container-id-1 label.sk-toggleable__label {cursor: pointer;display: block;width: 100%;margin-bottom: 0;padding: 0.3em;box-sizing: border-box;text-align: center;}#sk-container-id-1 label.sk-toggleable__label-arrow:before {content: \"▸\";float: left;margin-right: 0.25em;color: #696969;}#sk-container-id-1 label.sk-toggleable__label-arrow:hover:before {color: black;}#sk-container-id-1 div.sk-estimator:hover label.sk-toggleable__label-arrow:before {color: black;}#sk-container-id-1 div.sk-toggleable__content {max-height: 0;max-width: 0;overflow: hidden;text-align: left;background-color: #f0f8ff;}#sk-container-id-1 div.sk-toggleable__content pre {margin: 0.2em;color: black;border-radius: 0.25em;background-color: #f0f8ff;}#sk-container-id-1 input.sk-toggleable__control:checked~div.sk-toggleable__content {max-height: 200px;max-width: 100%;overflow: auto;}#sk-container-id-1 input.sk-toggleable__control:checked~label.sk-toggleable__label-arrow:before {content: \"▾\";}#sk-container-id-1 div.sk-estimator input.sk-toggleable__control:checked~label.sk-toggleable__label {background-color: #d4ebff;}#sk-container-id-1 div.sk-label input.sk-toggleable__control:checked~label.sk-toggleable__label {background-color: #d4ebff;}#sk-container-id-1 input.sk-hidden--visually {border: 0;clip: rect(1px 1px 1px 1px);clip: rect(1px, 1px, 1px, 1px);height: 1px;margin: -1px;overflow: hidden;padding: 0;position: absolute;width: 1px;}#sk-container-id-1 div.sk-estimator {font-family: monospace;background-color: #f0f8ff;border: 1px dotted black;border-radius: 0.25em;box-sizing: border-box;margin-bottom: 0.5em;}#sk-container-id-1 div.sk-estimator:hover {background-color: #d4ebff;}#sk-container-id-1 div.sk-parallel-item::after {content: \"\";width: 100%;border-bottom: 1px solid gray;flex-grow: 1;}#sk-container-id-1 div.sk-label:hover label.sk-toggleable__label {background-color: #d4ebff;}#sk-container-id-1 div.sk-serial::before {content: \"\";position: absolute;border-left: 1px solid gray;box-sizing: border-box;top: 0;bottom: 0;left: 50%;z-index: 0;}#sk-container-id-1 div.sk-serial {display: flex;flex-direction: column;align-items: center;background-color: white;padding-right: 0.2em;padding-left: 0.2em;position: relative;}#sk-container-id-1 div.sk-item {position: relative;z-index: 1;}#sk-container-id-1 div.sk-parallel {display: flex;align-items: stretch;justify-content: center;background-color: white;position: relative;}#sk-container-id-1 div.sk-item::before, #sk-container-id-1 div.sk-parallel-item::before {content: \"\";position: absolute;border-left: 1px solid gray;box-sizing: border-box;top: 0;bottom: 0;left: 50%;z-index: -1;}#sk-container-id-1 div.sk-parallel-item {display: flex;flex-direction: column;z-index: 1;position: relative;background-color: white;}#sk-container-id-1 div.sk-parallel-item:first-child::after {align-self: flex-end;width: 50%;}#sk-container-id-1 div.sk-parallel-item:last-child::after {align-self: flex-start;width: 50%;}#sk-container-id-1 div.sk-parallel-item:only-child::after {width: 0;}#sk-container-id-1 div.sk-dashed-wrapped {border: 1px dashed gray;margin: 0 0.4em 0.5em 0.4em;box-sizing: border-box;padding-bottom: 0.4em;background-color: white;}#sk-container-id-1 div.sk-label label {font-family: monospace;font-weight: bold;display: inline-block;line-height: 1.2em;}#sk-container-id-1 div.sk-label-container {text-align: center;}#sk-container-id-1 div.sk-container {/* jupyter's `normalize.less` sets `[hidden] { display: none; }` but bootstrap.min.css set `[hidden] { display: none !important; }` so we also need the `!important` here to be able to override the default hidden behavior on the sphinx rendered scikit-learn.org. See: https://github.com/scikit-learn/scikit-learn/issues/21755 */display: inline-block !important;position: relative;}#sk-container-id-1 div.sk-text-repr-fallback {display: none;}</style><div id=\"sk-container-id-1\" class=\"sk-top-container\"><div class=\"sk-text-repr-fallback\"><pre>LGBMRegressor()</pre><b>In a Jupyter environment, please rerun this cell to show the HTML representation or trust the notebook. <br />On GitHub, the HTML representation is unable to render, please try loading this page with nbviewer.org.</b></div><div class=\"sk-container\" hidden><div class=\"sk-item\"><div class=\"sk-estimator sk-toggleable\"><input class=\"sk-toggleable__control sk-hidden--visually\" id=\"sk-estimator-id-1\" type=\"checkbox\" checked><label for=\"sk-estimator-id-1\" class=\"sk-toggleable__label sk-toggleable__label-arrow\">LGBMRegressor</label><div class=\"sk-toggleable__content\"><pre>LGBMRegressor()</pre></div></div></div></div></div>"
      ],
      "text/plain": [
       "LGBMRegressor()"
      ]
     },
     "execution_count": 30,
     "metadata": {},
     "output_type": "execute_result"
    }
   ],
   "source": [
    "model = ltb.LGBMRegressor()\n",
    "model.fit(X_train, y_train)"
   ]
  },
  {
   "cell_type": "code",
   "execution_count": 31,
   "id": "ce841101",
   "metadata": {},
   "outputs": [],
   "source": [
    "vec_test_zh = vectorizer_zh.transform([''])\n",
    "X_test_tfidf_zh = tfidf_transform.fit_transform(vec_test_zh)\n",
    "\n",
    "vec_test_en = vectorizer_en.transform(['Verbatim'])\n",
    "X_test_tfidf_en = tfidf_transform.fit_transform(vec_test_en)\n",
    "\n",
    "X_test = hstack((X_test_tfidf_zh, X_test_tfidf_en))"
   ]
  },
  {
   "cell_type": "code",
   "execution_count": 32,
   "id": "eb26fe32",
   "metadata": {},
   "outputs": [
    {
     "name": "stdout",
     "output_type": "stream",
     "text": [
      "predicted reasonalbe price:  1096.67\n"
     ]
    }
   ],
   "source": [
    "#prediction\n",
    "predicted_y = model.predict(X_test)\n",
    "predicted_y=predicted_y[0]\n",
    "print(\"predicted reasonalbe price: \",predicted_y.round(2))"
   ]
  },
  {
   "cell_type": "markdown",
   "id": "ba6b8275",
   "metadata": {},
   "source": [
    "# 7. Boxplot to determinate price range bounds. "
   ]
  },
  {
   "cell_type": "code",
   "execution_count": 33,
   "id": "ec9b7fba",
   "metadata": {},
   "outputs": [
    {
     "data": {
      "image/png": "[encoded data removed]",
      "text/plain": [
       "<Figure size 432x288 with 1 Axes>"
      ]
     },
     "metadata": {
      "needs_background": "light"
     },
     "output_type": "display_data"
    }
   ],
   "source": [
    "plt.boxplot(totalorderquery['price'], boxprops=dict(color='red'))\n",
    "plt.show()"
   ]
  },
  {
   "cell_type": "code",
   "execution_count": 34,
   "id": "27fb363c",
   "metadata": {},
   "outputs": [
    {
     "data": {
      "text/plain": [
       "count      24.000000\n",
       "mean     1344.166667\n",
       "std       294.661437\n",
       "min       550.000000\n",
       "25%      1137.500000\n",
       "50%      1500.000000\n",
       "75%      1532.500000\n",
       "max      1570.000000\n",
       "Name: price, dtype: float64"
      ]
     },
     "execution_count": 34,
     "metadata": {},
     "output_type": "execute_result"
    }
   ],
   "source": [
    "totalorderquery['price'].describe()"
   ]
  },
  {
   "cell_type": "code",
   "execution_count": 35,
   "id": "e25dc4b0",
   "metadata": {},
   "outputs": [
    {
     "data": {
      "image/png": "[encoded data removed]",
      "text/plain": [
       "<Figure size 432x288 with 1 Axes>"
      ]
     },
     "metadata": {
      "needs_background": "light"
     },
     "output_type": "display_data"
    }
   ],
   "source": [
    "plt.boxplot(goods['price'].astype(int), boxprops=dict(color='red'))\n",
    "plt.show()"
   ]
  },
  {
   "cell_type": "code",
   "execution_count": 36,
   "id": "eddf233d",
   "metadata": {},
   "outputs": [
    {
     "data": {
      "text/plain": [
       "count       4.000000\n",
       "mean     1322.500000\n",
       "std       623.985844\n",
       "min       500.000000\n",
       "25%      1092.500000\n",
       "50%      1395.000000\n",
       "75%      1625.000000\n",
       "max      2000.000000\n",
       "Name: price, dtype: float64"
      ]
     },
     "execution_count": 36,
     "metadata": {},
     "output_type": "execute_result"
    }
   ],
   "source": [
    "goods['price'].astype(int).describe()"
   ]
  },
  {
   "cell_type": "code",
   "execution_count": 37,
   "id": "c48f1a67",
   "metadata": {},
   "outputs": [],
   "source": [
    "firstQuartile1= goods['price'].astype(int).quantile( 0.25)\n",
    "thirdQuartile1= goods['price'].astype(int).quantile( 0.75) \n",
    "firstQuartile2=totalorderquery[\"price\"].astype(int).quantile( 0.25)\n",
    "thirdQuartile2= totalorderquery['price'].astype(int).quantile( 0.75)"
   ]
  },
  {
   "cell_type": "code",
   "execution_count": 38,
   "id": "4915e386",
   "metadata": {},
   "outputs": [
    {
     "name": "stdout",
     "output_type": "stream",
     "text": [
      "The reasonable price is between: 1137.5 and 1532.5\n"
     ]
    }
   ],
   "source": [
    "print(\"The reasonable price is between:\", max(firstQuartile1,firstQuartile2) , \"and\", min(thirdQuartile1,thirdQuartile2) )"
   ]
  },
  {
   "cell_type": "markdown",
   "id": "f7e37c08",
   "metadata": {},
   "source": [
    "# 8. Results Summary"
   ]
  },
  {
   "cell_type": "code",
   "execution_count": 39,
   "id": "29ea38f9",
   "metadata": {},
   "outputs": [
    {
     "name": "stdout",
     "output_type": "stream",
     "text": [
      "The reasonable price for Quartiles Method is between: 1138 and 1532\n",
      "The reasonable price for the Regression Method is: 1097\n",
      "The reasonable price for the Confidence Interval Method is between: 1226 and 1462\n"
     ]
    }
   ],
   "source": [
    "#Quartiles \n",
    "print(\"The reasonable price for Quartiles Method is between:\",round(max(firstQuartile1,firstQuartile2)) , \"and\", round(min(thirdQuartile1,thirdQuartile2)) ) \n",
    "#Regression \n",
    "print(\"The reasonable price for the Regression Method is:\",round(predicted_y)) \n",
    "#Statistic Confidence Interval 95% \n",
    "print(\"The reasonable price for the Confidence Interval Method is between:\", round(LowCI) , \"and\", round(UpperCI))\n",
    "\n",
    "\n",
    "\n"
   ]
  }
 ],
 "metadata": {
  "kernelspec": {
   "display_name": "Python 3 (ipykernel)",
   "language": "python",
   "name": "python3"
  },
  "language_info": {
   "codemirror_mode": {
    "name": "ipython",
    "version": 3
   },
   "file_extension": ".py",
   "mimetype": "text/x-python",
   "name": "python",
   "nbconvert_exporter": "python",
   "pygments_lexer": "ipython3",
   "version": "3.9.7"
  }
 },
 "nbformat": 4,
 "nbformat_minor": 5
}
